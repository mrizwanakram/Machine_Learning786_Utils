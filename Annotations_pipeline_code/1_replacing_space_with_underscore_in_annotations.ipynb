{
 "cells": [
  {
   "cell_type": "code",
   "execution_count": 2,
   "metadata": {},
   "outputs": [],
   "source": [
    "import os\n",
    "import re\n",
    "\n",
    "def replace_space_with_underscore(filename):\n",
    "    with open(filename, 'r') as file:\n",
    "        content = file.read()\n",
    "    modified_content = re.sub(r' ', '_', content)\n",
    "    with open(filename, 'w') as file:\n",
    "        file.write(modified_content)\n",
    "\n",
    "def find_images_with_spaces(directory):\n",
    "    for root, dirs, files in os.walk(directory):\n",
    "        for filename in files:\n",
    "            if ' ' in filename:\n",
    "                print(f\"Image with space found: {filename} in folder: {root}\")\n",
    "\n",
    "# Directory paths where you have the 'classes.txt' files\n",
    "directories = ['1', '2', '3']\n",
    "\n",
    "for directory in directories:\n",
    "    class_file = os.path.join(directory, 'classes.txt')\n",
    "    if os.path.exists(class_file):\n",
    "        replace_space_with_underscore(class_file)\n",
    "\n",
    "# Specify the root directory where images are located\n",
    "image_root_directory = 'your_image_directory_path_here'\n",
    "find_images_with_spaces(image_root_directory)\n"
   ]
  },
  {
   "cell_type": "code",
   "execution_count": null,
   "metadata": {},
   "outputs": [],
   "source": []
  }
 ],
 "metadata": {
  "kernelspec": {
   "display_name": "base",
   "language": "python",
   "name": "python3"
  },
  "language_info": {
   "codemirror_mode": {
    "name": "ipython",
    "version": 3
   },
   "file_extension": ".py",
   "mimetype": "text/x-python",
   "name": "python",
   "nbconvert_exporter": "python",
   "pygments_lexer": "ipython3",
   "version": "3.11.4"
  }
 },
 "nbformat": 4,
 "nbformat_minor": 2
}
