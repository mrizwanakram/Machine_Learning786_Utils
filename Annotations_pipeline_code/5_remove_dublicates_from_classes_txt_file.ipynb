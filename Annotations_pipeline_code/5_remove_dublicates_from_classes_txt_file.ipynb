{
 "cells": [
  {
   "cell_type": "code",
   "execution_count": 3,
   "metadata": {},
   "outputs": [
    {
     "name": "stdout",
     "output_type": "stream",
     "text": [
      "Duplicates removed from classes1.txt.\n"
     ]
    }
   ],
   "source": [
    "# Specify the file name\n",
    "file_name = \"classes1.txt\"\n",
    "\n",
    "# Read the content of the file and remove duplicates\n",
    "with open(file_name, \"r\") as file:\n",
    "    lines = file.readlines()\n",
    "\n",
    "# Use a set to store unique lines while preserving their order\n",
    "unique_lines = []\n",
    "for line in lines:\n",
    "    line = line.strip()\n",
    "    if line not in unique_lines:\n",
    "        unique_lines.append(line)\n",
    "\n",
    "# Write the unique lines back to the file\n",
    "with open(file_name, \"w\") as file:\n",
    "    file.write(\"\\n\".join(unique_lines))\n",
    "\n",
    "print(f\"Duplicates removed from {file_name}.\")\n"
   ]
  },
  {
   "cell_type": "code",
   "execution_count": null,
   "metadata": {},
   "outputs": [],
   "source": []
  }
 ],
 "metadata": {
  "kernelspec": {
   "display_name": "base",
   "language": "python",
   "name": "python3"
  },
  "language_info": {
   "codemirror_mode": {
    "name": "ipython",
    "version": 3
   },
   "file_extension": ".py",
   "mimetype": "text/x-python",
   "name": "python",
   "nbconvert_exporter": "python",
   "pygments_lexer": "ipython3",
   "version": "3.11.4"
  }
 },
 "nbformat": 4,
 "nbformat_minor": 2
}
