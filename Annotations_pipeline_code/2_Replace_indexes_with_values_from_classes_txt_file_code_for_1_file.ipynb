{
 "cells": [
  {
   "cell_type": "code",
   "execution_count": 5,
   "metadata": {},
   "outputs": [],
   "source": [
    "import os\n",
    "\n",
    "# Define the folder path\n",
    "folder_path = \"1\"\n",
    "\n",
    "# Read the class names from classes.txt\n",
    "with open(os.path.join(folder_path, 'classes.txt'), 'r') as classes_file:\n",
    "    class_names = classes_file.read().splitlines()\n",
    "\n",
    "# Create a dictionary to map annotation indices to class names\n",
    "class_mapping = {str(i): class_name for i, class_name in enumerate(class_names)}\n",
    "\n",
    "# Iterate through the text files in the folder\n",
    "for filename in os.listdir(folder_path):\n",
    "    if filename.endswith(\".txt\"):\n",
    "        file_path = os.path.join(folder_path, filename)\n",
    "\n",
    "        # Read the content of the text file\n",
    "        with open(file_path, 'r') as file:\n",
    "            lines = file.readlines()\n",
    "\n",
    "        # Replace annotation indices with class names and write back to the file\n",
    "        with open(file_path, 'w') as file:\n",
    "            for line in lines:\n",
    "                parts = line.strip().split()\n",
    "                if parts and parts[0] in class_mapping:\n",
    "                    parts[0] = class_mapping[parts[0]]\n",
    "                new_line = \" \".join(parts)\n",
    "                file.write(new_line + '\\n')\n"
   ]
  },
  {
   "cell_type": "code",
   "execution_count": null,
   "metadata": {},
   "outputs": [],
   "source": []
  }
 ],
 "metadata": {
  "kernelspec": {
   "display_name": "base",
   "language": "python",
   "name": "python3"
  },
  "language_info": {
   "codemirror_mode": {
    "name": "ipython",
    "version": 3
   },
   "file_extension": ".py",
   "mimetype": "text/x-python",
   "name": "python",
   "nbconvert_exporter": "python",
   "pygments_lexer": "ipython3",
   "version": "3.11.4"
  }
 },
 "nbformat": 4,
 "nbformat_minor": 2
}
