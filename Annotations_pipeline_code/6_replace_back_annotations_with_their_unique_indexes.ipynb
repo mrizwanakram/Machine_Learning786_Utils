{
 "cells": [
  {
   "cell_type": "code",
   "execution_count": 1,
   "metadata": {},
   "outputs": [
    {
     "name": "stdout",
     "output_type": "stream",
     "text": [
      "Annotation names in .txt files have been replaced with their corresponding indexes from classes1.txt\n"
     ]
    }
   ],
   "source": [
    "import os\n",
    "\n",
    "# Read the unique class names from classes1.txt and create a mapping from name to index\n",
    "class_mapping = {}\n",
    "with open(\"classes1.txt\", 'r') as classes_file:\n",
    "    class_names = classes_file.read().splitlines()\n",
    "    class_mapping = {class_name: str(index) for index, class_name in enumerate(class_names)}\n",
    "\n",
    "# List of folder names\n",
    "folders = [\"1\", \"2\", \"3\"]\n",
    "\n",
    "# Iterate through each folder\n",
    "for folder_name in folders:\n",
    "    folder_path = folder_name\n",
    "\n",
    "    # Iterate through the text files in the folder\n",
    "    for filename in os.listdir(folder_path):\n",
    "        if filename.endswith(\".txt\"):\n",
    "            file_path = os.path.join(folder_path, filename)\n",
    "\n",
    "            # Read the content of the text file\n",
    "            with open(file_path, 'r') as file:\n",
    "                lines = file.readlines()\n",
    "\n",
    "            # Replace annotation names with their corresponding indexes and write back to the file\n",
    "            with open(file_path, 'w') as file:\n",
    "                for line in lines:\n",
    "                    parts = line.strip().split()\n",
    "                    if parts and parts[0] in class_mapping:\n",
    "                        parts[0] = class_mapping[parts[0]]\n",
    "                    new_line = \" \".join(parts)\n",
    "                    file.write(new_line + '\\n')\n",
    "\n",
    "print(\"Annotation names in .txt files have been replaced with their corresponding indexes from classes1.txt\")\n"
   ]
  },
  {
   "cell_type": "code",
   "execution_count": null,
   "metadata": {},
   "outputs": [],
   "source": []
  }
 ],
 "metadata": {
  "kernelspec": {
   "display_name": "base",
   "language": "python",
   "name": "python3"
  },
  "language_info": {
   "codemirror_mode": {
    "name": "ipython",
    "version": 3
   },
   "file_extension": ".py",
   "mimetype": "text/x-python",
   "name": "python",
   "nbconvert_exporter": "python",
   "pygments_lexer": "ipython3",
   "version": "3.11.4"
  }
 },
 "nbformat": 4,
 "nbformat_minor": 2
}
