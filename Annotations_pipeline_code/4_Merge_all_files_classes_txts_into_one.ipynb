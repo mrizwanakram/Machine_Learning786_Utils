{
 "cells": [
  {
   "cell_type": "code",
   "execution_count": 1,
   "metadata": {},
   "outputs": [
    {
     "name": "stdout",
     "output_type": "stream",
     "text": [
      "All class names have been merged into classes1.txt\n"
     ]
    }
   ],
   "source": [
    "import os\n",
    "import time\n",
    "\n",
    "# List of folder names\n",
    "folders = [\"1\", \"2\", \"3\"]\n",
    "\n",
    "# Create an empty list to store all class names\n",
    "all_class_names = []\n",
    "\n",
    "# Iterate through each folder and read the class names from classes.txt\n",
    "for folder_name in folders:\n",
    "    folder_path = folder_name\n",
    "    classes_file_path = os.path.join(folder_path, 'classes.txt')\n",
    "\n",
    "    # Read the class names from each classes.txt file\n",
    "    with open(classes_file_path, 'r') as classes_file:\n",
    "        class_names = classes_file.read().splitlines()\n",
    "        all_class_names.extend(class_names)\n",
    "\n",
    "    # Add a 2-second delay to ensure all values are processed\n",
    "    time.sleep(2)\n",
    "\n",
    "# Create a new classes1.txt file and write all class names to it\n",
    "output_file_path = \"classes1.txt\"\n",
    "with open(output_file_path, 'w') as output_file:\n",
    "    for class_name in all_class_names:\n",
    "        output_file.write(class_name + '\\n')\n",
    "\n",
    "print(f\"All class names have been merged into {output_file_path}\")\n"
   ]
  },
  {
   "cell_type": "code",
   "execution_count": null,
   "metadata": {},
   "outputs": [],
   "source": []
  }
 ],
 "metadata": {
  "kernelspec": {
   "display_name": "base",
   "language": "python",
   "name": "python3"
  },
  "language_info": {
   "codemirror_mode": {
    "name": "ipython",
    "version": 3
   },
   "file_extension": ".py",
   "mimetype": "text/x-python",
   "name": "python",
   "nbconvert_exporter": "python",
   "pygments_lexer": "ipython3",
   "version": "3.11.4"
  }
 },
 "nbformat": 4,
 "nbformat_minor": 2
}
