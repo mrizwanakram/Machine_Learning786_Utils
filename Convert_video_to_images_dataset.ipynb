{
  "nbformat": 4,
  "nbformat_minor": 0,
  "metadata": {
    "colab": {
      "provenance": []
    },
    "kernelspec": {
      "name": "python3",
      "display_name": "Python 3"
    },
    "language_info": {
      "name": "python"
    }
  },
  "cells": [
    {
      "cell_type": "code",
      "execution_count": null,
      "metadata": {
        "id": "T9-zX7yp4KUW"
      },
      "outputs": [],
      "source": [
        "# importing the zipfile module\n",
        "from zipfile import ZipFile\n",
        "\n",
        "# loading the temp.zip and creating a zip object\n",
        "with ZipFile(\"/content/drive/MyDrive/animals Dataset.zip\", 'r') as zObject:\n",
        "\n",
        "\t# Extracting all the members of the zip\n",
        "\t# into a specific location.\n",
        "\tzObject.extractall(\n",
        "\t\tpath=\"/content/drive/MyDrive/\")\n"
      ]
    },
    {
      "cell_type": "code",
      "source": [
        "from google.colab import drive\n",
        "drive.mount('/content/drive')"
      ],
      "metadata": {
        "colab": {
          "base_uri": "https://localhost:8080/"
        },
        "id": "0Qc1AFU04VK-",
        "outputId": "692da5e0-b89a-4964-ece3-e13a084a67c3"
      },
      "execution_count": null,
      "outputs": [
        {
          "output_type": "stream",
          "name": "stdout",
          "text": [
            "Mounted at /content/drive\n"
          ]
        }
      ]
    },
    {
      "cell_type": "code",
      "source": [
        "import os\n",
        "import cv2\n",
        "\n",
        "def extract_frames(video_path, output_folder, frames_per_second=5):\n",
        "    # Create the output folder if it doesn't exist\n",
        "    if not os.path.exists(output_folder):\n",
        "        os.makedirs(output_folder)\n",
        "\n",
        "    # Open the video file\n",
        "    cap = cv2.VideoCapture(video_path)\n",
        "\n",
        "    # Get the frames per second (fps) of the video\n",
        "    video_fps = cap.get(cv2.CAP_PROP_FPS)\n",
        "\n",
        "    # Calculate the frame interval to capture the desired number of frames per second\n",
        "    frame_interval = int(video_fps / frames_per_second)\n",
        "\n",
        "    # Initialize a counter for the images to be saved\n",
        "    image_count = 0\n",
        "\n",
        "    while True:\n",
        "        # Read a frame from the video\n",
        "        ret, frame = cap.read()\n",
        "\n",
        "        if not ret:\n",
        "            break  # Break the loop when there are no more frames to read\n",
        "\n",
        "        # Check if the current frame index matches the interval\n",
        "        if image_count % frame_interval == 0:\n",
        "            # Save the frame as an image\n",
        "            image_path = os.path.join(output_folder, f\"frame_{image_count}.jpg\")\n",
        "            cv2.imwrite(image_path, frame)\n",
        "\n",
        "        image_count += 1\n",
        "\n",
        "    # Release the video capture object\n",
        "    cap.release()\n",
        "\n",
        "if __name__ == \"__main__\":\n",
        "    # Replace 'video_folder_path' with the path to the folder containing your videos\n",
        "    video_folder_path = \"/content/drive/MyDrive/animals Dataset\"\n",
        "\n",
        "    # Replace 'output_folder_path' with the path where you want to save the extracted images\n",
        "    output_folder_path = \"/content/drive/MyDrive/animals Dataset/images\"\n",
        "\n",
        "    # Iterate through each video in the main folder\n",
        "    for video_file in os.listdir(video_folder_path):\n",
        "        if video_file.endswith(\".mp4\"):\n",
        "            video_path = os.path.join(video_folder_path, video_file)\n",
        "\n",
        "            # Create a separate folder for each video to store its images\n",
        "            video_name = os.path.splitext(video_file)[0]\n",
        "            output_video_folder = os.path.join(output_folder_path, video_name)\n",
        "            extract_frames(video_path, output_video_folder)\n"
      ],
      "metadata": {
        "id": "giyCAu_O4zM3"
      },
      "execution_count": null,
      "outputs": []
    },
    {
      "cell_type": "code",
      "source": [],
      "metadata": {
        "id": "3g3pnDfK4zQS"
      },
      "execution_count": null,
      "outputs": []
    },
    {
      "cell_type": "code",
      "source": [],
      "metadata": {
        "id": "5skfBT9T4zUd"
      },
      "execution_count": null,
      "outputs": []
    },
    {
      "cell_type": "code",
      "source": [],
      "metadata": {
        "id": "Pe-NRFlB4zYL"
      },
      "execution_count": null,
      "outputs": []
    },
    {
      "cell_type": "code",
      "source": [],
      "metadata": {
        "id": "c1Pl-krV4zbC"
      },
      "execution_count": null,
      "outputs": []
    }
  ]
}